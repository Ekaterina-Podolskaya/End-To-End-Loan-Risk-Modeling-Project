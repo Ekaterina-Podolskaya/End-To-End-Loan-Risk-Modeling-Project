{
 "cells": [
  {
   "cell_type": "code",
   "execution_count": 37,
   "metadata": {
    "_cell_guid": "b1076dfc-b9ad-4769-8c92-a6c4dae69d19",
    "_uuid": "8f2839f25d086af736a60e9eeb907d3b93b6e0e5",
    "execution": {
     "iopub.execute_input": "2025-05-07T12:20:39.349972Z",
     "iopub.status.busy": "2025-05-07T12:20:39.349454Z",
     "iopub.status.idle": "2025-05-07T12:20:39.394359Z",
     "shell.execute_reply": "2025-05-07T12:20:39.392970Z",
     "shell.execute_reply.started": "2025-05-07T12:20:39.349940Z"
    },
    "trusted": true
   },
   "outputs": [],
   "source": [
    "import pandas as pd"
   ]
  },
  {
   "cell_type": "code",
   "execution_count": 38,
   "metadata": {
    "execution": {
     "iopub.execute_input": "2025-05-07T12:20:39.396878Z",
     "iopub.status.busy": "2025-05-07T12:20:39.396418Z",
     "iopub.status.idle": "2025-05-07T12:20:39.421319Z",
     "shell.execute_reply": "2025-05-07T12:20:39.419843Z",
     "shell.execute_reply.started": "2025-05-07T12:20:39.396836Z"
    },
    "trusted": true
   },
   "outputs": [
    {
     "name": "stderr",
     "output_type": "stream",
     "text": [
      "C:\\Users\\Vcx\\AppData\\Local\\Temp\\ipykernel_7320\\1691409756.py:1: DtypeWarning: Columns (19,47,55,112,123,124,125,128,129,130,133,139,140,141) have mixed types. Specify dtype option on import or set low_memory=False.\n",
      "  data = pd.read_csv(r'C:\\Users\\Vcx\\Desktop\\For GitHub\\Club Loan Data\\loan.csv') # Read the csv file\n"
     ]
    }
   ],
   "source": [
    "data = pd.read_csv(r'C:\\Users\\Vcx\\Desktop\\For GitHub\\Club Loan Data\\loan.csv') # Read the csv file"
   ]
  },
  {
   "cell_type": "code",
   "execution_count": 39,
   "metadata": {
    "execution": {
     "iopub.execute_input": "2025-05-07T12:20:39.424154Z",
     "iopub.status.busy": "2025-05-07T12:20:39.423780Z",
     "iopub.status.idle": "2025-05-07T12:20:39.432887Z",
     "shell.execute_reply": "2025-05-07T12:20:39.431650Z",
     "shell.execute_reply.started": "2025-05-07T12:20:39.424125Z"
    },
    "trusted": true
   },
   "outputs": [
    {
     "data": {
      "text/plain": [
       "(2260668, 145)"
      ]
     },
     "execution_count": 39,
     "metadata": {},
     "output_type": "execute_result"
    }
   ],
   "source": [
    "data.shape # Identify the number of rows and columns in the table"
   ]
  },
  {
   "cell_type": "code",
   "execution_count": 40,
   "metadata": {
    "execution": {
     "iopub.execute_input": "2025-05-07T12:20:39.434934Z",
     "iopub.status.busy": "2025-05-07T12:20:39.434537Z",
     "iopub.status.idle": "2025-05-07T12:20:39.462171Z",
     "shell.execute_reply": "2025-05-07T12:20:39.460710Z",
     "shell.execute_reply.started": "2025-05-07T12:20:39.434898Z"
    },
    "trusted": true
   },
   "outputs": [
    {
     "data": {
      "text/html": [
       "<div>\n",
       "<style scoped>\n",
       "    .dataframe tbody tr th:only-of-type {\n",
       "        vertical-align: middle;\n",
       "    }\n",
       "\n",
       "    .dataframe tbody tr th {\n",
       "        vertical-align: top;\n",
       "    }\n",
       "\n",
       "    .dataframe thead th {\n",
       "        text-align: right;\n",
       "    }\n",
       "</style>\n",
       "<table border=\"1\" class=\"dataframe\">\n",
       "  <thead>\n",
       "    <tr style=\"text-align: right;\">\n",
       "      <th></th>\n",
       "      <th>id</th>\n",
       "      <th>member_id</th>\n",
       "      <th>loan_amnt</th>\n",
       "      <th>funded_amnt</th>\n",
       "      <th>funded_amnt_inv</th>\n",
       "      <th>term</th>\n",
       "      <th>int_rate</th>\n",
       "      <th>installment</th>\n",
       "      <th>grade</th>\n",
       "      <th>sub_grade</th>\n",
       "      <th>...</th>\n",
       "      <th>hardship_payoff_balance_amount</th>\n",
       "      <th>hardship_last_payment_amount</th>\n",
       "      <th>disbursement_method</th>\n",
       "      <th>debt_settlement_flag</th>\n",
       "      <th>debt_settlement_flag_date</th>\n",
       "      <th>settlement_status</th>\n",
       "      <th>settlement_date</th>\n",
       "      <th>settlement_amount</th>\n",
       "      <th>settlement_percentage</th>\n",
       "      <th>settlement_term</th>\n",
       "    </tr>\n",
       "  </thead>\n",
       "  <tbody>\n",
       "    <tr>\n",
       "      <th>0</th>\n",
       "      <td>NaN</td>\n",
       "      <td>NaN</td>\n",
       "      <td>2500</td>\n",
       "      <td>2500</td>\n",
       "      <td>2500.0</td>\n",
       "      <td>36 months</td>\n",
       "      <td>13.56</td>\n",
       "      <td>84.92</td>\n",
       "      <td>C</td>\n",
       "      <td>C1</td>\n",
       "      <td>...</td>\n",
       "      <td>NaN</td>\n",
       "      <td>NaN</td>\n",
       "      <td>Cash</td>\n",
       "      <td>N</td>\n",
       "      <td>NaN</td>\n",
       "      <td>NaN</td>\n",
       "      <td>NaN</td>\n",
       "      <td>NaN</td>\n",
       "      <td>NaN</td>\n",
       "      <td>NaN</td>\n",
       "    </tr>\n",
       "    <tr>\n",
       "      <th>1</th>\n",
       "      <td>NaN</td>\n",
       "      <td>NaN</td>\n",
       "      <td>30000</td>\n",
       "      <td>30000</td>\n",
       "      <td>30000.0</td>\n",
       "      <td>60 months</td>\n",
       "      <td>18.94</td>\n",
       "      <td>777.23</td>\n",
       "      <td>D</td>\n",
       "      <td>D2</td>\n",
       "      <td>...</td>\n",
       "      <td>NaN</td>\n",
       "      <td>NaN</td>\n",
       "      <td>Cash</td>\n",
       "      <td>N</td>\n",
       "      <td>NaN</td>\n",
       "      <td>NaN</td>\n",
       "      <td>NaN</td>\n",
       "      <td>NaN</td>\n",
       "      <td>NaN</td>\n",
       "      <td>NaN</td>\n",
       "    </tr>\n",
       "    <tr>\n",
       "      <th>2</th>\n",
       "      <td>NaN</td>\n",
       "      <td>NaN</td>\n",
       "      <td>5000</td>\n",
       "      <td>5000</td>\n",
       "      <td>5000.0</td>\n",
       "      <td>36 months</td>\n",
       "      <td>17.97</td>\n",
       "      <td>180.69</td>\n",
       "      <td>D</td>\n",
       "      <td>D1</td>\n",
       "      <td>...</td>\n",
       "      <td>NaN</td>\n",
       "      <td>NaN</td>\n",
       "      <td>Cash</td>\n",
       "      <td>N</td>\n",
       "      <td>NaN</td>\n",
       "      <td>NaN</td>\n",
       "      <td>NaN</td>\n",
       "      <td>NaN</td>\n",
       "      <td>NaN</td>\n",
       "      <td>NaN</td>\n",
       "    </tr>\n",
       "    <tr>\n",
       "      <th>3</th>\n",
       "      <td>NaN</td>\n",
       "      <td>NaN</td>\n",
       "      <td>4000</td>\n",
       "      <td>4000</td>\n",
       "      <td>4000.0</td>\n",
       "      <td>36 months</td>\n",
       "      <td>18.94</td>\n",
       "      <td>146.51</td>\n",
       "      <td>D</td>\n",
       "      <td>D2</td>\n",
       "      <td>...</td>\n",
       "      <td>NaN</td>\n",
       "      <td>NaN</td>\n",
       "      <td>Cash</td>\n",
       "      <td>N</td>\n",
       "      <td>NaN</td>\n",
       "      <td>NaN</td>\n",
       "      <td>NaN</td>\n",
       "      <td>NaN</td>\n",
       "      <td>NaN</td>\n",
       "      <td>NaN</td>\n",
       "    </tr>\n",
       "    <tr>\n",
       "      <th>4</th>\n",
       "      <td>NaN</td>\n",
       "      <td>NaN</td>\n",
       "      <td>30000</td>\n",
       "      <td>30000</td>\n",
       "      <td>30000.0</td>\n",
       "      <td>60 months</td>\n",
       "      <td>16.14</td>\n",
       "      <td>731.78</td>\n",
       "      <td>C</td>\n",
       "      <td>C4</td>\n",
       "      <td>...</td>\n",
       "      <td>NaN</td>\n",
       "      <td>NaN</td>\n",
       "      <td>Cash</td>\n",
       "      <td>N</td>\n",
       "      <td>NaN</td>\n",
       "      <td>NaN</td>\n",
       "      <td>NaN</td>\n",
       "      <td>NaN</td>\n",
       "      <td>NaN</td>\n",
       "      <td>NaN</td>\n",
       "    </tr>\n",
       "  </tbody>\n",
       "</table>\n",
       "<p>5 rows × 145 columns</p>\n",
       "</div>"
      ],
      "text/plain": [
       "   id  member_id  loan_amnt  funded_amnt  funded_amnt_inv        term  \\\n",
       "0 NaN        NaN       2500         2500           2500.0   36 months   \n",
       "1 NaN        NaN      30000        30000          30000.0   60 months   \n",
       "2 NaN        NaN       5000         5000           5000.0   36 months   \n",
       "3 NaN        NaN       4000         4000           4000.0   36 months   \n",
       "4 NaN        NaN      30000        30000          30000.0   60 months   \n",
       "\n",
       "   int_rate  installment grade sub_grade  ... hardship_payoff_balance_amount  \\\n",
       "0     13.56        84.92     C        C1  ...                            NaN   \n",
       "1     18.94       777.23     D        D2  ...                            NaN   \n",
       "2     17.97       180.69     D        D1  ...                            NaN   \n",
       "3     18.94       146.51     D        D2  ...                            NaN   \n",
       "4     16.14       731.78     C        C4  ...                            NaN   \n",
       "\n",
       "  hardship_last_payment_amount disbursement_method  debt_settlement_flag  \\\n",
       "0                          NaN                Cash                     N   \n",
       "1                          NaN                Cash                     N   \n",
       "2                          NaN                Cash                     N   \n",
       "3                          NaN                Cash                     N   \n",
       "4                          NaN                Cash                     N   \n",
       "\n",
       "  debt_settlement_flag_date settlement_status settlement_date  \\\n",
       "0                       NaN               NaN             NaN   \n",
       "1                       NaN               NaN             NaN   \n",
       "2                       NaN               NaN             NaN   \n",
       "3                       NaN               NaN             NaN   \n",
       "4                       NaN               NaN             NaN   \n",
       "\n",
       "  settlement_amount  settlement_percentage settlement_term  \n",
       "0               NaN                    NaN             NaN  \n",
       "1               NaN                    NaN             NaN  \n",
       "2               NaN                    NaN             NaN  \n",
       "3               NaN                    NaN             NaN  \n",
       "4               NaN                    NaN             NaN  \n",
       "\n",
       "[5 rows x 145 columns]"
      ]
     },
     "execution_count": 40,
     "metadata": {},
     "output_type": "execute_result"
    }
   ],
   "source": [
    "data.head() # Display the first five rows of the table to better understand the content"
   ]
  },
  {
   "cell_type": "code",
   "execution_count": 41,
   "metadata": {},
   "outputs": [
    {
     "name": "stdout",
     "output_type": "stream",
     "text": [
      "<class 'pandas.core.frame.DataFrame'>\n",
      "RangeIndex: 2260668 entries, 0 to 2260667\n",
      "Columns: 145 entries, id to settlement_term\n",
      "dtypes: float64(105), int64(4), object(36)\n",
      "memory usage: 2.4+ GB\n"
     ]
    }
   ],
   "source": [
    "data.info()"
   ]
  },
  {
   "cell_type": "code",
   "execution_count": 42,
   "metadata": {},
   "outputs": [
    {
     "data": {
      "text/plain": [
       "id                       float64\n",
       "member_id                float64\n",
       "loan_amnt                  int64\n",
       "funded_amnt                int64\n",
       "funded_amnt_inv          float64\n",
       "                          ...   \n",
       "settlement_status         object\n",
       "settlement_date           object\n",
       "settlement_amount        float64\n",
       "settlement_percentage    float64\n",
       "settlement_term          float64\n",
       "Length: 145, dtype: object"
      ]
     },
     "execution_count": 42,
     "metadata": {},
     "output_type": "execute_result"
    }
   ],
   "source": [
    "data.dtypes"
   ]
  },
  {
   "cell_type": "code",
   "execution_count": 43,
   "metadata": {
    "execution": {
     "iopub.execute_input": "2025-05-07T12:20:39.463735Z",
     "iopub.status.busy": "2025-05-07T12:20:39.463342Z",
     "iopub.status.idle": "2025-05-07T12:20:39.519300Z",
     "shell.execute_reply": "2025-05-07T12:20:39.517956Z",
     "shell.execute_reply.started": "2025-05-07T12:20:39.463696Z"
    },
    "trusted": true
   },
   "outputs": [
    {
     "data": {
      "text/html": [
       "<div>\n",
       "<style scoped>\n",
       "    .dataframe tbody tr th:only-of-type {\n",
       "        vertical-align: middle;\n",
       "    }\n",
       "\n",
       "    .dataframe tbody tr th {\n",
       "        vertical-align: top;\n",
       "    }\n",
       "\n",
       "    .dataframe thead th {\n",
       "        text-align: right;\n",
       "    }\n",
       "</style>\n",
       "<table border=\"1\" class=\"dataframe\">\n",
       "  <thead>\n",
       "    <tr style=\"text-align: right;\">\n",
       "      <th></th>\n",
       "      <th>id</th>\n",
       "      <th>member_id</th>\n",
       "      <th>loan_amnt</th>\n",
       "      <th>funded_amnt</th>\n",
       "      <th>funded_amnt_inv</th>\n",
       "      <th>int_rate</th>\n",
       "      <th>installment</th>\n",
       "      <th>annual_inc</th>\n",
       "      <th>url</th>\n",
       "      <th>dti</th>\n",
       "      <th>...</th>\n",
       "      <th>deferral_term</th>\n",
       "      <th>hardship_amount</th>\n",
       "      <th>hardship_length</th>\n",
       "      <th>hardship_dpd</th>\n",
       "      <th>orig_projected_additional_accrued_interest</th>\n",
       "      <th>hardship_payoff_balance_amount</th>\n",
       "      <th>hardship_last_payment_amount</th>\n",
       "      <th>settlement_amount</th>\n",
       "      <th>settlement_percentage</th>\n",
       "      <th>settlement_term</th>\n",
       "    </tr>\n",
       "  </thead>\n",
       "  <tbody>\n",
       "    <tr>\n",
       "      <th>count</th>\n",
       "      <td>0.0</td>\n",
       "      <td>0.0</td>\n",
       "      <td>2.260668e+06</td>\n",
       "      <td>2.260668e+06</td>\n",
       "      <td>2.260668e+06</td>\n",
       "      <td>2.260668e+06</td>\n",
       "      <td>2.260668e+06</td>\n",
       "      <td>2.260664e+06</td>\n",
       "      <td>0.0</td>\n",
       "      <td>2.258957e+06</td>\n",
       "      <td>...</td>\n",
       "      <td>10613.0</td>\n",
       "      <td>10613.000000</td>\n",
       "      <td>10613.0</td>\n",
       "      <td>10613.000000</td>\n",
       "      <td>8426.000000</td>\n",
       "      <td>10613.000000</td>\n",
       "      <td>10613.000000</td>\n",
       "      <td>33056.000000</td>\n",
       "      <td>33056.000000</td>\n",
       "      <td>33056.000000</td>\n",
       "    </tr>\n",
       "    <tr>\n",
       "      <th>mean</th>\n",
       "      <td>NaN</td>\n",
       "      <td>NaN</td>\n",
       "      <td>1.504693e+04</td>\n",
       "      <td>1.504166e+04</td>\n",
       "      <td>1.502344e+04</td>\n",
       "      <td>1.309291e+01</td>\n",
       "      <td>4.458076e+02</td>\n",
       "      <td>7.799243e+04</td>\n",
       "      <td>NaN</td>\n",
       "      <td>1.882420e+01</td>\n",
       "      <td>...</td>\n",
       "      <td>3.0</td>\n",
       "      <td>155.006696</td>\n",
       "      <td>3.0</td>\n",
       "      <td>13.686422</td>\n",
       "      <td>454.840802</td>\n",
       "      <td>11628.036442</td>\n",
       "      <td>193.606331</td>\n",
       "      <td>5030.606922</td>\n",
       "      <td>47.775600</td>\n",
       "      <td>13.148596</td>\n",
       "    </tr>\n",
       "    <tr>\n",
       "      <th>std</th>\n",
       "      <td>NaN</td>\n",
       "      <td>NaN</td>\n",
       "      <td>9.190245e+03</td>\n",
       "      <td>9.188413e+03</td>\n",
       "      <td>9.192332e+03</td>\n",
       "      <td>4.832114e+00</td>\n",
       "      <td>2.671737e+02</td>\n",
       "      <td>1.126962e+05</td>\n",
       "      <td>NaN</td>\n",
       "      <td>1.418333e+01</td>\n",
       "      <td>...</td>\n",
       "      <td>0.0</td>\n",
       "      <td>129.113137</td>\n",
       "      <td>0.0</td>\n",
       "      <td>9.728138</td>\n",
       "      <td>375.830737</td>\n",
       "      <td>7615.161123</td>\n",
       "      <td>198.694368</td>\n",
       "      <td>3692.027842</td>\n",
       "      <td>7.336379</td>\n",
       "      <td>8.192319</td>\n",
       "    </tr>\n",
       "    <tr>\n",
       "      <th>min</th>\n",
       "      <td>NaN</td>\n",
       "      <td>NaN</td>\n",
       "      <td>5.000000e+02</td>\n",
       "      <td>5.000000e+02</td>\n",
       "      <td>0.000000e+00</td>\n",
       "      <td>5.310000e+00</td>\n",
       "      <td>4.930000e+00</td>\n",
       "      <td>0.000000e+00</td>\n",
       "      <td>NaN</td>\n",
       "      <td>-1.000000e+00</td>\n",
       "      <td>...</td>\n",
       "      <td>3.0</td>\n",
       "      <td>0.640000</td>\n",
       "      <td>3.0</td>\n",
       "      <td>0.000000</td>\n",
       "      <td>1.920000</td>\n",
       "      <td>55.730000</td>\n",
       "      <td>0.010000</td>\n",
       "      <td>44.210000</td>\n",
       "      <td>0.200000</td>\n",
       "      <td>0.000000</td>\n",
       "    </tr>\n",
       "    <tr>\n",
       "      <th>25%</th>\n",
       "      <td>NaN</td>\n",
       "      <td>NaN</td>\n",
       "      <td>8.000000e+03</td>\n",
       "      <td>8.000000e+03</td>\n",
       "      <td>8.000000e+03</td>\n",
       "      <td>9.490000e+00</td>\n",
       "      <td>2.516500e+02</td>\n",
       "      <td>4.600000e+04</td>\n",
       "      <td>NaN</td>\n",
       "      <td>1.189000e+01</td>\n",
       "      <td>...</td>\n",
       "      <td>3.0</td>\n",
       "      <td>59.370000</td>\n",
       "      <td>3.0</td>\n",
       "      <td>5.000000</td>\n",
       "      <td>174.967500</td>\n",
       "      <td>5628.730000</td>\n",
       "      <td>43.780000</td>\n",
       "      <td>2227.000000</td>\n",
       "      <td>45.000000</td>\n",
       "      <td>6.000000</td>\n",
       "    </tr>\n",
       "    <tr>\n",
       "      <th>50%</th>\n",
       "      <td>NaN</td>\n",
       "      <td>NaN</td>\n",
       "      <td>1.290000e+04</td>\n",
       "      <td>1.287500e+04</td>\n",
       "      <td>1.280000e+04</td>\n",
       "      <td>1.262000e+01</td>\n",
       "      <td>3.779900e+02</td>\n",
       "      <td>6.500000e+04</td>\n",
       "      <td>NaN</td>\n",
       "      <td>1.784000e+01</td>\n",
       "      <td>...</td>\n",
       "      <td>3.0</td>\n",
       "      <td>119.040000</td>\n",
       "      <td>3.0</td>\n",
       "      <td>15.000000</td>\n",
       "      <td>352.605000</td>\n",
       "      <td>10044.220000</td>\n",
       "      <td>132.890000</td>\n",
       "      <td>4172.855000</td>\n",
       "      <td>45.000000</td>\n",
       "      <td>14.000000</td>\n",
       "    </tr>\n",
       "    <tr>\n",
       "      <th>75%</th>\n",
       "      <td>NaN</td>\n",
       "      <td>NaN</td>\n",
       "      <td>2.000000e+04</td>\n",
       "      <td>2.000000e+04</td>\n",
       "      <td>2.000000e+04</td>\n",
       "      <td>1.599000e+01</td>\n",
       "      <td>5.933200e+02</td>\n",
       "      <td>9.300000e+04</td>\n",
       "      <td>NaN</td>\n",
       "      <td>2.449000e+01</td>\n",
       "      <td>...</td>\n",
       "      <td>3.0</td>\n",
       "      <td>213.260000</td>\n",
       "      <td>3.0</td>\n",
       "      <td>22.000000</td>\n",
       "      <td>622.792500</td>\n",
       "      <td>16114.940000</td>\n",
       "      <td>284.180000</td>\n",
       "      <td>6870.782500</td>\n",
       "      <td>50.000000</td>\n",
       "      <td>18.000000</td>\n",
       "    </tr>\n",
       "    <tr>\n",
       "      <th>max</th>\n",
       "      <td>NaN</td>\n",
       "      <td>NaN</td>\n",
       "      <td>4.000000e+04</td>\n",
       "      <td>4.000000e+04</td>\n",
       "      <td>4.000000e+04</td>\n",
       "      <td>3.099000e+01</td>\n",
       "      <td>1.719830e+03</td>\n",
       "      <td>1.100000e+08</td>\n",
       "      <td>NaN</td>\n",
       "      <td>9.990000e+02</td>\n",
       "      <td>...</td>\n",
       "      <td>3.0</td>\n",
       "      <td>943.940000</td>\n",
       "      <td>3.0</td>\n",
       "      <td>37.000000</td>\n",
       "      <td>2680.890000</td>\n",
       "      <td>40306.410000</td>\n",
       "      <td>1407.860000</td>\n",
       "      <td>33601.000000</td>\n",
       "      <td>521.350000</td>\n",
       "      <td>181.000000</td>\n",
       "    </tr>\n",
       "  </tbody>\n",
       "</table>\n",
       "<p>8 rows × 109 columns</p>\n",
       "</div>"
      ],
      "text/plain": [
       "        id  member_id     loan_amnt   funded_amnt  funded_amnt_inv  \\\n",
       "count  0.0        0.0  2.260668e+06  2.260668e+06     2.260668e+06   \n",
       "mean   NaN        NaN  1.504693e+04  1.504166e+04     1.502344e+04   \n",
       "std    NaN        NaN  9.190245e+03  9.188413e+03     9.192332e+03   \n",
       "min    NaN        NaN  5.000000e+02  5.000000e+02     0.000000e+00   \n",
       "25%    NaN        NaN  8.000000e+03  8.000000e+03     8.000000e+03   \n",
       "50%    NaN        NaN  1.290000e+04  1.287500e+04     1.280000e+04   \n",
       "75%    NaN        NaN  2.000000e+04  2.000000e+04     2.000000e+04   \n",
       "max    NaN        NaN  4.000000e+04  4.000000e+04     4.000000e+04   \n",
       "\n",
       "           int_rate   installment    annual_inc  url           dti  ...  \\\n",
       "count  2.260668e+06  2.260668e+06  2.260664e+06  0.0  2.258957e+06  ...   \n",
       "mean   1.309291e+01  4.458076e+02  7.799243e+04  NaN  1.882420e+01  ...   \n",
       "std    4.832114e+00  2.671737e+02  1.126962e+05  NaN  1.418333e+01  ...   \n",
       "min    5.310000e+00  4.930000e+00  0.000000e+00  NaN -1.000000e+00  ...   \n",
       "25%    9.490000e+00  2.516500e+02  4.600000e+04  NaN  1.189000e+01  ...   \n",
       "50%    1.262000e+01  3.779900e+02  6.500000e+04  NaN  1.784000e+01  ...   \n",
       "75%    1.599000e+01  5.933200e+02  9.300000e+04  NaN  2.449000e+01  ...   \n",
       "max    3.099000e+01  1.719830e+03  1.100000e+08  NaN  9.990000e+02  ...   \n",
       "\n",
       "       deferral_term  hardship_amount  hardship_length  hardship_dpd  \\\n",
       "count        10613.0     10613.000000          10613.0  10613.000000   \n",
       "mean             3.0       155.006696              3.0     13.686422   \n",
       "std              0.0       129.113137              0.0      9.728138   \n",
       "min              3.0         0.640000              3.0      0.000000   \n",
       "25%              3.0        59.370000              3.0      5.000000   \n",
       "50%              3.0       119.040000              3.0     15.000000   \n",
       "75%              3.0       213.260000              3.0     22.000000   \n",
       "max              3.0       943.940000              3.0     37.000000   \n",
       "\n",
       "       orig_projected_additional_accrued_interest  \\\n",
       "count                                 8426.000000   \n",
       "mean                                   454.840802   \n",
       "std                                    375.830737   \n",
       "min                                      1.920000   \n",
       "25%                                    174.967500   \n",
       "50%                                    352.605000   \n",
       "75%                                    622.792500   \n",
       "max                                   2680.890000   \n",
       "\n",
       "       hardship_payoff_balance_amount  hardship_last_payment_amount  \\\n",
       "count                    10613.000000                  10613.000000   \n",
       "mean                     11628.036442                    193.606331   \n",
       "std                       7615.161123                    198.694368   \n",
       "min                         55.730000                      0.010000   \n",
       "25%                       5628.730000                     43.780000   \n",
       "50%                      10044.220000                    132.890000   \n",
       "75%                      16114.940000                    284.180000   \n",
       "max                      40306.410000                   1407.860000   \n",
       "\n",
       "       settlement_amount  settlement_percentage  settlement_term  \n",
       "count       33056.000000           33056.000000     33056.000000  \n",
       "mean         5030.606922              47.775600        13.148596  \n",
       "std          3692.027842               7.336379         8.192319  \n",
       "min            44.210000               0.200000         0.000000  \n",
       "25%          2227.000000              45.000000         6.000000  \n",
       "50%          4172.855000              45.000000        14.000000  \n",
       "75%          6870.782500              50.000000        18.000000  \n",
       "max         33601.000000             521.350000       181.000000  \n",
       "\n",
       "[8 rows x 109 columns]"
      ]
     },
     "execution_count": 43,
     "metadata": {},
     "output_type": "execute_result"
    }
   ],
   "source": [
    "data.describe()"
   ]
  },
  {
   "cell_type": "markdown",
   "metadata": {},
   "source": [
    "# Data cleaning"
   ]
  },
  {
   "cell_type": "code",
   "execution_count": 44,
   "metadata": {},
   "outputs": [],
   "source": [
    "data = data.drop_duplicates() # Remove duplicate rows from the table"
   ]
  },
  {
   "cell_type": "code",
   "execution_count": 45,
   "metadata": {},
   "outputs": [
    {
     "data": {
      "text/plain": [
       "id                                            2260668\n",
       "member_id                                     2260668\n",
       "url                                           2260668\n",
       "orig_projected_additional_accrued_interest    2252242\n",
       "hardship_amount                               2250055\n",
       "                                               ...   \n",
       "total_rec_int                                       0\n",
       "collection_recovery_fee                             0\n",
       "hardship_flag                                       0\n",
       "disbursement_method                                 0\n",
       "debt_settlement_flag                                0\n",
       "Length: 145, dtype: int64"
      ]
     },
     "execution_count": 45,
     "metadata": {},
     "output_type": "execute_result"
    }
   ],
   "source": [
    "data.isnull().sum().sort_values(ascending=False) # Check for missing values in the table\n"
   ]
  },
  {
   "cell_type": "code",
   "execution_count": 46,
   "metadata": {},
   "outputs": [
    {
     "data": {
      "text/plain": [
       "id                                            1.000000\n",
       "member_id                                     1.000000\n",
       "url                                           1.000000\n",
       "orig_projected_additional_accrued_interest    0.996273\n",
       "hardship_amount                               0.995305\n",
       "hardship_dpd                                  0.995305\n",
       "hardship_loan_status                          0.995305\n",
       "deferral_term                                 0.995305\n",
       "hardship_end_date                             0.995305\n",
       "hardship_status                               0.995305\n",
       "hardship_start_date                           0.995305\n",
       "hardship_reason                               0.995305\n",
       "hardship_type                                 0.995305\n",
       "hardship_payoff_balance_amount                0.995305\n",
       "hardship_last_payment_amount                  0.995305\n",
       "hardship_length                               0.995305\n",
       "payment_plan_start_date                       0.995305\n",
       "debt_settlement_flag_date                     0.985378\n",
       "settlement_term                               0.985378\n",
       "settlement_amount                             0.985378\n",
       "settlement_date                               0.985378\n",
       "settlement_percentage                         0.985378\n",
       "settlement_status                             0.985378\n",
       "sec_app_mths_since_last_major_derog           0.984101\n",
       "sec_app_revol_util                            0.953030\n",
       "revol_bal_joint                               0.952218\n",
       "sec_app_earliest_cr_line                      0.952217\n",
       "sec_app_mort_acc                              0.952217\n",
       "sec_app_open_act_il                           0.952217\n",
       "sec_app_num_rev_accts                         0.952217\n",
       "sec_app_inq_last_6mths                        0.952217\n",
       "sec_app_chargeoff_within_12_mths              0.952217\n",
       "sec_app_open_acc                              0.952217\n",
       "sec_app_collections_12_mths_ex_med            0.952217\n",
       "verification_status_joint                     0.948807\n",
       "dti_joint                                     0.946606\n",
       "annual_inc_joint                              0.946604\n",
       "desc                                          0.944236\n",
       "mths_since_last_record                        0.841128\n",
       "mths_since_recent_bc_dlq                      0.770112\n",
       "mths_since_last_major_derog                   0.743096\n",
       "mths_since_recent_revol_delinq                0.672504\n",
       "next_pymnt_d                                  0.576647\n",
       "mths_since_last_delinq                        0.512460\n",
       "dtype: float64"
      ]
     },
     "execution_count": 46,
     "metadata": {},
     "output_type": "execute_result"
    }
   ],
   "source": [
    "missing_percent = data.isnull().mean().sort_values(ascending=False)\n",
    "missing_percent[missing_percent > 0.5]"
   ]
  },
  {
   "cell_type": "code",
   "execution_count": 47,
   "metadata": {},
   "outputs": [],
   "source": [
    "drop_cols = ['id', 'member_id', 'url', 'desc', 'hardship_amount', 'hardship_dpd', 'hardship_loan_status', 'hardship_end_date', 'hardship_status', 'hardship_start_date', 'hardship_reason', 'hardship_type', 'hardship_payoff_balance_amount', 'hardship_last_payment_amount', 'hardship_length', 'payment_plan_start_date', 'debt_settlement_flag_date', 'settlement_term', 'settlement_amount', 'settlement_date', 'settlement_percentage', 'settlement_status']\n",
    "data = data.drop(columns=drop_cols) # Drop columns with more than 50% missing values"
   ]
  },
  {
   "cell_type": "code",
   "execution_count": 48,
   "metadata": {},
   "outputs": [],
   "source": [
    "fill_minus1_cols = [\n",
    "    'mths_since_last_record', 'mths_since_recent_bc_dlq', 'mths_since_last_major_derog',\n",
    "    'mths_since_recent_revol_delinq', 'next_pymnt_d', 'mths_since_last_delinq'\n",
    "]\n",
    "data[fill_minus1_cols] = data[fill_minus1_cols].fillna(-1)"
   ]
  },
  {
   "cell_type": "code",
   "execution_count": 49,
   "metadata": {},
   "outputs": [
    {
     "name": "stderr",
     "output_type": "stream",
     "text": [
      "<>:5: SyntaxWarning: invalid escape sequence '\\d'\n",
      "<>:5: SyntaxWarning: invalid escape sequence '\\d'\n",
      "C:\\Users\\Vcx\\AppData\\Local\\Temp\\ipykernel_7320\\2237842987.py:5: SyntaxWarning: invalid escape sequence '\\d'\n",
      "  data['term'] = data['term'].astype(str).str.extract('(\\d+)').astype(float)\n"
     ]
    }
   ],
   "source": [
    "# Преобразуем процентную ставку: убираем %, преобразуем в float\n",
    "data['int_rate'] = data['int_rate'].astype(str).str.replace('%', '').astype(float)\n",
    "\n",
    "# Преобразуем срок займа из строки в число месяцев\n",
    "data['term'] = data['term'].astype(str).str.extract('(\\d+)').astype(float)"
   ]
  },
  {
   "cell_type": "code",
   "execution_count": 50,
   "metadata": {},
   "outputs": [],
   "source": [
    "data['is_default'] = data['loan_status'].apply(lambda x: 1 if x in ['Charged Off', 'Default', 'Late (31-120 days)'] else 0)"
   ]
  },
  {
   "cell_type": "code",
   "execution_count": 51,
   "metadata": {},
   "outputs": [
    {
     "name": "stderr",
     "output_type": "stream",
     "text": [
      "<>:6: SyntaxWarning: invalid escape sequence '\\d'\n",
      "<>:6: SyntaxWarning: invalid escape sequence '\\d'\n",
      "C:\\Users\\Vcx\\AppData\\Local\\Temp\\ipykernel_7320\\2943981073.py:6: SyntaxWarning: invalid escape sequence '\\d'\n",
      "  }).str.extract('(\\d+)').astype(float)\n"
     ]
    }
   ],
   "source": [
    "data['income_to_loan_ratio'] = data['annual_inc'] / data['loan_amnt']\n",
    "\n",
    "# Employment length в число\n",
    "data['emp_length'] = data['emp_length'].replace({\n",
    "    '10+ years': 10, '< 1 year': 0, 'n/a': None\n",
    "}).str.extract('(\\d+)').astype(float)"
   ]
  },
  {
   "cell_type": "code",
   "execution_count": 52,
   "metadata": {},
   "outputs": [
    {
     "data": {
      "text/plain": [
       "purpose\n",
       "small_business        0.195229\n",
       "renewable_energy      0.159862\n",
       "moving                0.151789\n",
       "debt_consolidation    0.135923\n",
       "educational           0.132075\n",
       "medical               0.131330\n",
       "other                 0.125796\n",
       "house                 0.121958\n",
       "vacation              0.119485\n",
       "wedding               0.118471\n",
       "major_purchase        0.116662\n",
       "home_improvement      0.109905\n",
       "credit_card           0.102013\n",
       "car                   0.094824\n",
       "Name: is_default, dtype: float64"
      ]
     },
     "execution_count": 52,
     "metadata": {},
     "output_type": "execute_result"
    }
   ],
   "source": [
    "data.groupby('purpose')['is_default'].mean().sort_values(ascending=False)"
   ]
  },
  {
   "cell_type": "code",
   "execution_count": 53,
   "metadata": {},
   "outputs": [],
   "source": [
    "columns_for_tableau = [\n",
    "    'loan_amnt', 'term', 'int_rate', 'grade', 'sub_grade',\n",
    "    'emp_length', 'home_ownership', 'annual_inc', 'purpose',\n",
    "    'issue_d', 'loan_status', 'is_default', 'income_to_loan_ratio'\n",
    "]\n",
    "\n",
    "data_tableau = data[columns_for_tableau].copy()"
   ]
  },
  {
   "cell_type": "code",
   "execution_count": 54,
   "metadata": {},
   "outputs": [
    {
     "name": "stdout",
     "output_type": "stream",
     "text": [
      "<class 'pandas.core.frame.DataFrame'>\n",
      "RangeIndex: 2260668 entries, 0 to 2260667\n",
      "Data columns (total 13 columns):\n",
      " #   Column                Dtype  \n",
      "---  ------                -----  \n",
      " 0   loan_amnt             int64  \n",
      " 1   term                  float64\n",
      " 2   int_rate              float64\n",
      " 3   grade                 object \n",
      " 4   sub_grade             object \n",
      " 5   emp_length            float64\n",
      " 6   home_ownership        object \n",
      " 7   annual_inc            float64\n",
      " 8   purpose               object \n",
      " 9   issue_d               object \n",
      " 10  loan_status           object \n",
      " 11  is_default            int64  \n",
      " 12  income_to_loan_ratio  float64\n",
      "dtypes: float64(5), int64(2), object(6)\n",
      "memory usage: 224.2+ MB\n"
     ]
    },
    {
     "data": {
      "text/plain": [
       "loan_amnt                     0\n",
       "term                          0\n",
       "int_rate                      0\n",
       "grade                         0\n",
       "sub_grade                     0\n",
       "emp_length              1084900\n",
       "home_ownership                0\n",
       "annual_inc                    4\n",
       "purpose                       0\n",
       "issue_d                       0\n",
       "loan_status                   0\n",
       "is_default                    0\n",
       "income_to_loan_ratio          4\n",
       "dtype: int64"
      ]
     },
     "execution_count": 54,
     "metadata": {},
     "output_type": "execute_result"
    }
   ],
   "source": [
    "data_tableau.info()\n",
    "data_tableau.isnull().sum()"
   ]
  },
  {
   "cell_type": "code",
   "execution_count": 55,
   "metadata": {},
   "outputs": [],
   "source": [
    "data_tableau['emp_length'] = data_tableau['emp_length'].fillna(-1)"
   ]
  },
  {
   "cell_type": "code",
   "execution_count": 56,
   "metadata": {},
   "outputs": [],
   "source": [
    "median_income = data_tableau['annual_inc'].median()\n",
    "data_tableau['annual_inc'] = data_tableau['annual_inc'].fillna(median_income)"
   ]
  },
  {
   "cell_type": "code",
   "execution_count": 57,
   "metadata": {},
   "outputs": [],
   "source": [
    "data_tableau['income_to_loan_ratio'] = data_tableau['annual_inc'] / data_tableau['loan_amnt']"
   ]
  },
  {
   "cell_type": "code",
   "execution_count": 58,
   "metadata": {},
   "outputs": [],
   "source": [
    "data_tableau.to_csv(\"LoanData_Cleaned.csv\", index=False)"
   ]
  }
 ],
 "metadata": {
  "kaggle": {
   "accelerator": "none",
   "dataSources": [
    {
     "datasetId": 6501209,
     "sourceId": 10500284,
     "sourceType": "datasetVersion"
    }
   ],
   "dockerImageVersionId": 30918,
   "isGpuEnabled": false,
   "isInternetEnabled": false,
   "language": "python",
   "sourceType": "notebook"
  },
  "kernelspec": {
   "display_name": "Python 3",
   "language": "python",
   "name": "python3"
  },
  "language_info": {
   "codemirror_mode": {
    "name": "ipython",
    "version": 3
   },
   "file_extension": ".py",
   "mimetype": "text/x-python",
   "name": "python",
   "nbconvert_exporter": "python",
   "pygments_lexer": "ipython3",
   "version": "3.13.1"
  }
 },
 "nbformat": 4,
 "nbformat_minor": 4
}
